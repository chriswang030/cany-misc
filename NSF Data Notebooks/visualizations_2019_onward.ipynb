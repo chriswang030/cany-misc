{
 "cells": [
  {
   "cell_type": "code",
   "execution_count": null,
   "metadata": {},
   "outputs": [],
   "source": [
    "from operator import iadd\n",
    "from functools import reduce\n",
    "import pandas as pd\n",
    "import matplotlib.pyplot as plt\n",
    "%matplotlib inline"
   ]
  },
  {
   "cell_type": "code",
   "execution_count": null,
   "metadata": {},
   "outputs": [],
   "source": [
    "# Display all rows\n",
    "pd.set_option('display.max_rows', None)"
   ]
  },
  {
   "cell_type": "code",
   "execution_count": null,
   "metadata": {
    "scrolled": true
   },
   "outputs": [],
   "source": [
    "# Get data up to 5-25-2020\n",
    "df = pd.read_json('http://localhost:5000/api/get/allentries')"
   ]
  },
  {
   "cell_type": "code",
   "execution_count": null,
   "metadata": {},
   "outputs": [],
   "source": [
    "# Clean data\n",
    "\n",
    "# Remove prison visit survey responses\n",
    "df = df[df['format'] != 'Prison visit']\n",
    "\n",
    "# Remove entries with no tags\n",
    "df = df[[bool(tags) for tags in df['tags']]]\n",
    "\n",
    "# Remove entries with no date entered, and limit to 2019 onward\n",
    "df = df[[(date is not None and date >= '2019-01-01') for date in df['date_received']]]\n",
    "\n",
    "# Keep relevant columns\n",
    "df = df.filter(['eid', 'date_received', 'facility', 'tags'])\n",
    "\n",
    "# Format dates to Python datetime\n",
    "df['date_received'] = pd.to_datetime(df['date_received'])"
   ]
  },
  {
   "cell_type": "code",
   "execution_count": null,
   "metadata": {},
   "outputs": [],
   "source": [
    "# Total number of entries\n",
    "n = len(df.index)\n",
    "print('Total entries: ' + str(n))"
   ]
  },
  {
   "cell_type": "code",
   "execution_count": null,
   "metadata": {
    "scrolled": true
   },
   "outputs": [],
   "source": [
    "# Categories summary, since 2019, descending order\n",
    "# count refers to # of letters with this tag, percentage refers to % of letters with this tag\n",
    "categories = df['tags'].apply(lambda tags: pd.Series([tag['name'] for tag in tags]).value_counts()).sum()\n",
    "categories = categories.to_frame()\n",
    "categories.columns = ['count']\n",
    "categories['percentage'] = categories['count'] * 100 / n\n",
    "categories.sort_values(by='count', ascending=False)"
   ]
  },
  {
   "cell_type": "code",
   "execution_count": null,
   "metadata": {
    "scrolled": true
   },
   "outputs": [],
   "source": [
    "# Issues summary, since 2019, descending order\n",
    "# count refers to # of letters with this tag, percentage refers to % of letters with this tag\n",
    "issues = df['tags'].apply(lambda tags: pd.Series(reduce(iadd, (tag['subtags'] for tag in tags))).value_counts()).sum()\n",
    "issues = issues.to_frame()\n",
    "issues.columns = ['count']\n",
    "issues['percentage'] = issues['count'] * 100 / n\n",
    "issues.sort_values(by='count', ascending=False)"
   ]
  },
  {
   "cell_type": "code",
   "execution_count": null,
   "metadata": {},
   "outputs": [],
   "source": [
    "# Entries tagged 'Grievance' since 2019\n",
    "issues.loc['Grievance']"
   ]
  },
  {
   "cell_type": "code",
   "execution_count": null,
   "metadata": {},
   "outputs": [],
   "source": [
    "# Flatten\n",
    "df = (pd.concat({i: pd.json_normalize(x) for i, x in df.pop('tags').items()})\n",
    "        .reset_index(level=1, drop=True)\n",
    "        .join(df)\n",
    "        .reset_index()\n",
    "     )"
   ]
  },
  {
   "cell_type": "code",
   "execution_count": null,
   "metadata": {},
   "outputs": [],
   "source": [
    "# Format categories plot\n",
    "df_cat = df[:]\n",
    "df_cat['date_received'] = pd.to_datetime(df_cat['date_received'])\n",
    "df_cat.index = df_cat['date_received']\n",
    "df_cat = (df_cat.groupby([pd.Grouper(freq='M'), 'name'])\n",
    "                .count()\n",
    "                .filter(['name', 'eid'])\n",
    "                .rename(columns={'eid': 'count'})\n",
    "                .reset_index()\n",
    "         )\n",
    "\n",
    "# Pad zeroes\n",
    "n_months = df_cat['date_received'].unique()\n",
    "n_categs = df_cat['name'].unique()\n",
    "n_idx = pd.MultiIndex.from_product((n_months, n_categs), names=['date_received', 'name'])\n",
    "df_cat = df_cat.set_index(['date_received', 'name']).reindex(n_idx, fill_value=0).reset_index()\n",
    "\n",
    "# Normalize\n",
    "df_cat_sum = df_cat.groupby('date_received').sum()\n",
    "df_cat_sum.columns = ['sum']\n",
    "df_cat = df_cat.join(df_cat_sum, on='date_received')\n",
    "df_cat['percentage'] = df_cat['count'] / df_cat['sum']\n",
    "\n",
    "# Remove months with less than 5 entries\n",
    "df_cat = df_cat[df_cat['sum'] >= 5]"
   ]
  },
  {
   "cell_type": "code",
   "execution_count": null,
   "metadata": {},
   "outputs": [],
   "source": [
    "# Categories over time, since 2019, normalized, excluding Operations\n",
    "fig, ax = plt.subplots()\n",
    "ax.set_ylabel('Percentage')\n",
    "for key, data in df_cat[df_cat['name'] != 'Operations'].groupby('name'):\n",
    "    data.plot(x='date_received', y='percentage', ax=ax, label=key, figsize=(20,10))"
   ]
  },
  {
   "cell_type": "code",
   "execution_count": null,
   "metadata": {},
   "outputs": [],
   "source": [
    "# Flatten subtags\n",
    "df_flat = pd.DataFrame([[i, x] for i, y in df['subtags'].apply(list).iteritems() for x in y],\n",
    "                       columns=['I', 'subtags'])\n",
    "df_flat = df_flat.set_index('I')\n",
    "df_iss = df.drop('subtags', 1).merge(df_flat, left_index=True, right_index=True)\n",
    "\n",
    "# Format for issues chart\n",
    "df_iss.index = df_iss['date_received']\n",
    "df_iss = (df_iss.groupby([pd.Grouper(freq='M'), 'subtags', 'name'])\n",
    "                .count()\n",
    "                .filter(['subtags', 'eid'])\n",
    "                .rename(columns={'eid': 'count'})\n",
    "                .reset_index()\n",
    "         )\n",
    "df_iss['subtags'] = list(zip(df_iss['subtags'], df_iss['name']))\n",
    "\n",
    "# Pad zeroes\n",
    "n_months = df_iss['date_received'].unique()\n",
    "n_issues = df_iss['subtags'].unique()\n",
    "n_idx = pd.MultiIndex.from_product((n_months, n_issues), names=['date_received', 'subtags'])\n",
    "df_iss = df_iss.set_index(['date_received', 'subtags']).reindex(n_idx, fill_value=0).reset_index()\n",
    "\n",
    "# Normalize\n",
    "df_iss_sum = df_iss.groupby('date_received').sum()\n",
    "df_iss_sum.columns = ['sum']\n",
    "df_iss = df_iss.join(df_iss_sum, on='date_received')\n",
    "df_iss['percentage'] = df_iss['count'] / df_iss['sum']\n",
    "\n",
    "# Remove months with less than 5 entries\n",
    "df_iss = df_iss[df_iss['sum'] >= 5]\n",
    "\n",
    "# Reformat\n",
    "df_iss[['subtags', 'name']] = pd.DataFrame(df_iss['subtags'].tolist(), index=df_iss.index)"
   ]
  },
  {
   "cell_type": "code",
   "execution_count": null,
   "metadata": {},
   "outputs": [],
   "source": [
    "# Health & Well-being issues over time, since 2019\n",
    "fig, ax = plt.subplots()\n",
    "\n",
    "for key, data in df_iss[df_iss['name'] == 'Health & Well-being'].groupby('subtags'):\n",
    "    data.plot(x='date_received', y='percentage', ax=ax, label=key, figsize=(20,10))\n",
    "    \n",
    "plt.legend(loc='center left', bbox_to_anchor=(1.0, 0.5))"
   ]
  },
  {
   "cell_type": "code",
   "execution_count": null,
   "metadata": {
    "scrolled": false
   },
   "outputs": [],
   "source": [
    "# Procedural issues over time, since 2019\n",
    "fig, ax = plt.subplots()\n",
    "for key, data in df_iss[df_iss['name'] == 'Procedural'].groupby('subtags'):\n",
    "    data.plot(x='date_received', y='percentage', ax=ax, label=key, figsize=(20,10))\n",
    "\n",
    "plt.legend(loc='center left', bbox_to_anchor=(1.0, 0.5))"
   ]
  },
  {
   "cell_type": "code",
   "execution_count": null,
   "metadata": {},
   "outputs": [],
   "source": [
    "# Interpersonal issues over time, since 2019\n",
    "fig, ax = plt.subplots()\n",
    "for key, data in df_iss[df_iss['name'] == 'Interpersonal'].groupby('subtags'):\n",
    "    data.plot(x='date_received', y='percentage', ax=ax, label=key, figsize=(20,10))\n",
    "\n",
    "plt.legend(loc='center left', bbox_to_anchor=(1.0, 0.5))"
   ]
  },
  {
   "cell_type": "code",
   "execution_count": null,
   "metadata": {},
   "outputs": [],
   "source": [
    "# Services issues over time, since 2019\n",
    "fig, ax = plt.subplots()\n",
    "for key, data in df_iss[df_iss['name'] == 'Services'].groupby('subtags'):\n",
    "    data.plot(x='date_received', y='percentage', ax=ax, label=key, figsize=(20,10))\n",
    "\n",
    "plt.legend(loc='center left', bbox_to_anchor=(1.0, 0.5))"
   ]
  }
 ],
 "metadata": {
  "kernelspec": {
   "display_name": "Python 3",
   "language": "python",
   "name": "python3"
  },
  "language_info": {
   "codemirror_mode": {
    "name": "ipython",
    "version": 3
   },
   "file_extension": ".py",
   "mimetype": "text/x-python",
   "name": "python",
   "nbconvert_exporter": "python",
   "pygments_lexer": "ipython3",
   "version": "3.7.1"
  }
 },
 "nbformat": 4,
 "nbformat_minor": 2
}
